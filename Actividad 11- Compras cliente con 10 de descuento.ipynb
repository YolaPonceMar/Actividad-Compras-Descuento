{
 "cells": [
  {
   "cell_type": "code",
   "execution_count": null,
   "id": "0c583d39",
   "metadata": {},
   "outputs": [],
   "source": [
    "#Importa la libreria "
   ]
  },
  {
   "cell_type": "code",
   "execution_count": 31,
   "id": "f4585180",
   "metadata": {},
   "outputs": [],
   "source": [
    "import numpy as np"
   ]
  },
  {
   "cell_type": "code",
   "execution_count": 32,
   "id": "9957d2d0",
   "metadata": {},
   "outputs": [],
   "source": [
    "cantidad = 0\n",
    "compra = 0"
   ]
  },
  {
   "cell_type": "code",
   "execution_count": 33,
   "id": "456c88c9",
   "metadata": {},
   "outputs": [
    {
     "name": "stdout",
     "output_type": "stream",
     "text": [
      "Bienvenido a la calculadora de tu descuento(10%), Ingrese el monto de tu compra(0 para salir):1500\n"
     ]
    }
   ],
   "source": [
    "monto =float(input (\"Bienvenido a la calculadora de tu descuento(10%), Ingrese el monto de tu compra(0 para salir):\"))"
   ]
  },
  {
   "cell_type": "code",
   "execution_count": 34,
   "id": "1514528e",
   "metadata": {},
   "outputs": [
    {
     "name": "stdout",
     "output_type": "stream",
     "text": [
      "Ingresa el monto de otra compra: 200\n",
      "Ingresa el monto de otra compra: 300\n",
      "Ingresa el monto de otra compra: 0\n",
      "Monto total de tu compra es:  2000.0\n",
      "Monto del descuento es:  200.0\n",
      "***El Monto de tu compra acredita un 10% de descuento***\n",
      "Monto incluyendo 10% el descuento es: $ 1800.0\n"
     ]
    }
   ],
   "source": [
    "while monto!=0:\n",
    "    if monto<0:\n",
    "        print (\"Monto no valido(E:Valor negativo)\\n Ingresa un monto valido\")\n",
    "    else:\n",
    "        cantidad+=monto\n",
    "        compra+=monto\n",
    "    monto=float (input(\"Ingresa el monto de otra compra: \"))\n",
    "if cantidad>1000:\n",
    "    descuento=cantidad*0.1\n",
    "    cantidad-=cantidad*0.1\n",
    "    print (\"Monto total de tu compra es: \",compra)\n",
    "    print (\"Monto del descuento es: \",descuento)\n",
    "    print (\"***El Monto de tu compra acredita un 10% de descuento***\")\n",
    "    print(\"Monto incluyendo 10% el descuento es: $\",cantidad)"
   ]
  },
  {
   "cell_type": "code",
   "execution_count": null,
   "id": "5f70ae0e",
   "metadata": {},
   "outputs": [],
   "source": []
  },
  {
   "cell_type": "code",
   "execution_count": null,
   "id": "f4f3289e",
   "metadata": {},
   "outputs": [],
   "source": []
  }
 ],
 "metadata": {
  "kernelspec": {
   "display_name": "Python 3 (ipykernel)",
   "language": "python",
   "name": "python3"
  },
  "language_info": {
   "codemirror_mode": {
    "name": "ipython",
    "version": 3
   },
   "file_extension": ".py",
   "mimetype": "text/x-python",
   "name": "python",
   "nbconvert_exporter": "python",
   "pygments_lexer": "ipython3",
   "version": "3.9.12"
  }
 },
 "nbformat": 4,
 "nbformat_minor": 5
}
